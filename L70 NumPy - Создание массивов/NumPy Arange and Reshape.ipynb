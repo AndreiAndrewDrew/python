{
 "cells": [
  {
   "cell_type": "code",
   "execution_count": 2,
   "id": "6c38896c-094d-4283-97c9-90a54433c07a",
   "metadata": {},
   "outputs": [],
   "source": [
    "import numpy as np"
   ]
  },
  {
   "cell_type": "code",
   "execution_count": 2,
   "id": "b77e0301-2b92-4e3e-aefd-ac1a9385eb62",
   "metadata": {},
   "outputs": [
    {
     "data": {
      "text/plain": [
       "array([0, 1, 2, 3, 4, 5, 6, 7, 8, 9])"
      ]
     },
     "execution_count": 2,
     "metadata": {},
     "output_type": "execute_result"
    }
   ],
   "source": [
    "np.arange(10)"
   ]
  },
  {
   "cell_type": "code",
   "execution_count": 3,
   "id": "41671f1a-fc75-4181-b7fe-8a59f07e8700",
   "metadata": {},
   "outputs": [
    {
     "data": {
      "text/plain": [
       "array([ 0,  1,  2,  3,  4,  5,  6,  7,  8,  9, 10])"
      ]
     },
     "execution_count": 3,
     "metadata": {},
     "output_type": "execute_result"
    }
   ],
   "source": [
    "np.arange(11)"
   ]
  },
  {
   "cell_type": "code",
   "execution_count": 4,
   "id": "6b3b7669-995b-4dc7-984a-9afee688d258",
   "metadata": {},
   "outputs": [
    {
     "data": {
      "text/plain": [
       "array([10, 11, 12, 13, 14, 15, 16, 17, 18, 19])"
      ]
     },
     "execution_count": 4,
     "metadata": {},
     "output_type": "execute_result"
    }
   ],
   "source": [
    "np.arange(10,20)"
   ]
  },
  {
   "cell_type": "code",
   "execution_count": 5,
   "id": "aebaf33c-be7a-4c4d-acc8-accb75b5eeb0",
   "metadata": {},
   "outputs": [
    {
     "data": {
      "text/plain": [
       "array([10, 13, 16, 19, 22, 25, 28])"
      ]
     },
     "execution_count": 5,
     "metadata": {},
     "output_type": "execute_result"
    }
   ],
   "source": [
    "# a 3 valoare este pasul '3'\n",
    "np.arange(10,30,3)"
   ]
  },
  {
   "cell_type": "code",
   "execution_count": 6,
   "id": "ea80b186-da9e-4a1c-894e-dc55d9778980",
   "metadata": {},
   "outputs": [
    {
     "data": {
      "text/plain": [
       "array([-10,  -5,   0,   5,  10,  15,  20,  25])"
      ]
     },
     "execution_count": 6,
     "metadata": {},
     "output_type": "execute_result"
    }
   ],
   "source": [
    "np.arange(-10,30,5)"
   ]
  },
  {
   "cell_type": "code",
   "execution_count": 8,
   "id": "6c3b8bf1-dbb5-42a5-beb6-d7aa398fca85",
   "metadata": {},
   "outputs": [
    {
     "data": {
      "text/plain": [
       "array([-10,  -5,   0,   5,  10,  15,  20,  25])"
      ]
     },
     "execution_count": 8,
     "metadata": {},
     "output_type": "execute_result"
    }
   ],
   "source": [
    "# Versia cu argumentele cu nume\n",
    "np.arange(start=-10, stop=30, step=5)"
   ]
  },
  {
   "cell_type": "code",
   "execution_count": 10,
   "id": "b33391eb-7036-4d1f-a886-34ff66ea5073",
   "metadata": {},
   "outputs": [
    {
     "data": {
      "text/plain": [
       "array([[ 0,  1,  2,  3,  4,  5,  6,  7,  8,  9],\n",
       "       [10, 11, 12, 13, 14, 15, 16, 17, 18, 19]])"
      ]
     },
     "execution_count": 10,
     "metadata": {},
     "output_type": "execute_result"
    }
   ],
   "source": [
    "np.arange(20).reshape([2,10])\n",
    "# Primim un masiv de 2 dimensiuni 2 rinduri si 10 colonitse (2,10)"
   ]
  },
  {
   "cell_type": "code",
   "execution_count": 11,
   "id": "4d104e47-fa1d-432e-b807-764c5a01a7e7",
   "metadata": {},
   "outputs": [
    {
     "data": {
      "text/plain": [
       "array([[[ 0,  1,  2,  3,  4],\n",
       "        [ 5,  6,  7,  8,  9]],\n",
       "\n",
       "       [[10, 11, 12, 13, 14],\n",
       "        [15, 16, 17, 18, 19]]])"
      ]
     },
     "execution_count": 11,
     "metadata": {},
     "output_type": "execute_result"
    }
   ],
   "source": [
    "np.arange(20).reshape([2,2,5])\n",
    "# Primi masiv cu 3 dimansiuni"
   ]
  },
  {
   "cell_type": "code",
   "execution_count": 12,
   "id": "083c69d3-0bec-4507-b8de-aeefb70e3751",
   "metadata": {},
   "outputs": [
    {
     "data": {
      "text/plain": [
       "array([[ 0,  1,  2,  3,  4],\n",
       "       [ 5,  6,  7,  8,  9],\n",
       "       [10, 11, 12, 13, 14],\n",
       "       [15, 16, 17, 18, 19]])"
      ]
     },
     "execution_count": 12,
     "metadata": {},
     "output_type": "execute_result"
    }
   ],
   "source": [
    "np.arange(20).reshape([4,5])"
   ]
  },
  {
   "cell_type": "code",
   "execution_count": 13,
   "id": "dc575c61-0adc-4f5a-ab1b-75147f65087f",
   "metadata": {},
   "outputs": [
    {
     "data": {
      "text/plain": [
       "array([[[ 0,  1,  2,  3,  4],\n",
       "        [ 5,  6,  7,  8,  9]],\n",
       "\n",
       "       [[10, 11, 12, 13, 14],\n",
       "        [15, 16, 17, 18, 19]]])"
      ]
     },
     "execution_count": 13,
     "metadata": {},
     "output_type": "execute_result"
    }
   ],
   "source": [
    "np.arange(20).reshape([4,5]).reshape([2,2,5])\n",
    "# Oricind putem sa schimbam reformam masivul"
   ]
  },
  {
   "cell_type": "code",
   "execution_count": 14,
   "id": "6a21e4f5-9a94-4e04-915c-559093439b50",
   "metadata": {},
   "outputs": [
    {
     "data": {
      "text/plain": [
       "array([0.30448643, 0.23351528, 0.87944058, 0.89614012, 0.06005736,\n",
       "       0.87533614, 0.47878874, 0.84478935, 0.99237425, 0.40444582])"
      ]
     },
     "execution_count": 14,
     "metadata": {},
     "output_type": "execute_result"
    }
   ],
   "source": [
    "np.random.random((10,))"
   ]
  },
  {
   "cell_type": "code",
   "execution_count": 16,
   "id": "321495c7-48b0-4ec9-9d9c-8c61daa20fa7",
   "metadata": {},
   "outputs": [
    {
     "data": {
      "text/plain": [
       "array([[0.53772368, 0.95943914, 0.15977449, 0.0708048 , 0.87452986],\n",
       "       [0.92610829, 0.8263344 , 0.96492924, 0.37910967, 0.3047185 ]])"
      ]
     },
     "execution_count": 16,
     "metadata": {},
     "output_type": "execute_result"
    }
   ],
   "source": [
    "np.random.random((10,)).reshape([2,5])\n",
    "# primi deja un masiv bidiminseional"
   ]
  },
  {
   "cell_type": "code",
   "execution_count": 18,
   "id": "2e79b6ac-8e55-454a-9e8d-35865bf59271",
   "metadata": {},
   "outputs": [
    {
     "data": {
      "text/plain": [
       "array([[0.12603866, 0.04841405, 0.39539295, 0.01258584, 0.82868999],\n",
       "       [0.58293721, 0.97445756, 0.99625974, 0.56043567, 0.34934487]])"
      ]
     },
     "execution_count": 18,
     "metadata": {},
     "output_type": "execute_result"
    }
   ],
   "source": [
    "np.random.random((10,)).reshape((2,5))\n",
    "# se poate de indicat si cortedsj () "
   ]
  },
  {
   "cell_type": "code",
   "execution_count": 3,
   "id": "79473e87-5307-49cf-88e3-a1f7ee5d669a",
   "metadata": {},
   "outputs": [
    {
     "data": {
      "text/plain": [
       "array([[[59, 79, 54],\n",
       "        [65, 50, 67],\n",
       "        [77, 78, 75]],\n",
       "\n",
       "       [[79, 66, 79],\n",
       "        [67, 76, 58],\n",
       "        [59, 50, 60]],\n",
       "\n",
       "       [[58, 72, 54],\n",
       "        [69, 66, 54],\n",
       "        [65, 61, 72]],\n",
       "\n",
       "       [[74, 61, 76],\n",
       "        [51, 58, 54],\n",
       "        [64, 67, 69]]])"
      ]
     },
     "execution_count": 3,
     "metadata": {},
     "output_type": "execute_result"
    }
   ],
   "source": [
    "np.random.seed(10)\n",
    "np.random.randint(50, 80, (4,3,3))"
   ]
  },
  {
   "cell_type": "code",
   "execution_count": 5,
   "id": "460022ba-2adc-4a8f-930b-07b9d99196b7",
   "metadata": {},
   "outputs": [
    {
     "data": {
      "text/plain": [
       "array([59, 79, 54, 65, 50, 67, 77, 78, 75, 79, 66, 79, 67, 76, 58, 59, 50,\n",
       "       60, 58, 72, 54, 69, 66, 54, 65, 61, 72, 74, 61, 76, 51, 58, 54, 64,\n",
       "       67, 69])"
      ]
     },
     "execution_count": 5,
     "metadata": {},
     "output_type": "execute_result"
    }
   ],
   "source": [
    "np.random.seed(10)\n",
    "np.random.randint(50, 80, (4,3,3)).flatten()\n",
    "# 'flatten' transforma in array unidiminsional"
   ]
  },
  {
   "cell_type": "code",
   "execution_count": 7,
   "id": "b3b626a5-b976-4623-87d4-92509467b7cb",
   "metadata": {},
   "outputs": [
    {
     "data": {
      "text/plain": [
       "array([[ 0,  1,  2,  3,  4,  5,  6,  7,  8,  9],\n",
       "       [10, 11, 12, 13, 14, 15, 16, 17, 18, 19],\n",
       "       [20, 21, 22, 23, 24, 25, 26, 27, 28, 29]])"
      ]
     },
     "execution_count": 7,
     "metadata": {},
     "output_type": "execute_result"
    }
   ],
   "source": [
    "np.arange(30).reshape((3,10))"
   ]
  }
 ],
 "metadata": {
  "kernelspec": {
   "display_name": "Python 3 (ipykernel)",
   "language": "python",
   "name": "python3"
  },
  "language_info": {
   "codemirror_mode": {
    "name": "ipython",
    "version": 3
   },
   "file_extension": ".py",
   "mimetype": "text/x-python",
   "name": "python",
   "nbconvert_exporter": "python",
   "pygments_lexer": "ipython3",
   "version": "3.11.4"
  }
 },
 "nbformat": 4,
 "nbformat_minor": 5
}
