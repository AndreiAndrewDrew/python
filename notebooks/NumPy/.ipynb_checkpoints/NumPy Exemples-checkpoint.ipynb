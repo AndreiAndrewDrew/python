{
 "cells": [
  {
   "cell_type": "code",
   "execution_count": 2,
   "id": "3233a8da-2940-4d91-bdfc-acdf098f9dee",
   "metadata": {},
   "outputs": [],
   "source": [
    "import numpy as np"
   ]
  },
  {
   "cell_type": "markdown",
   "id": "d51f40ea-6cb6-4a14-8333-6d7f9a23add2",
   "metadata": {},
   "source": [
    "## 1.Calculating Total Revenue"
   ]
  },
  {
   "cell_type": "code",
   "execution_count": 2,
   "id": "85eb2fbf-a63c-41dd-b527-830f3bcd8e62",
   "metadata": {},
   "outputs": [
    {
     "data": {
      "text/plain": [
       "array([ 9.99, 19.99, 29.99, 24.99, 35.99])"
      ]
     },
     "execution_count": 2,
     "metadata": {},
     "output_type": "execute_result"
    }
   ],
   "source": [
    "prices =  np.array([9.99, 19.99, 29.99, 24.99, 35.99])\n",
    "prices"
   ]
  },
  {
   "cell_type": "code",
   "execution_count": 3,
   "id": "9abb69c9-debc-49b1-96d4-38de2a4c224f",
   "metadata": {},
   "outputs": [
    {
     "data": {
      "text/plain": [
       "array([12, 34, 45,  5, 67])"
      ]
     },
     "execution_count": 3,
     "metadata": {},
     "output_type": "execute_result"
    }
   ],
   "source": [
    "quantities = np.array([12,34,45,5,67])\n",
    "quantities"
   ]
  },
  {
   "cell_type": "code",
   "execution_count": 4,
   "id": "e13c6a2d-8be9-4249-9cfa-93e6aa1482f9",
   "metadata": {},
   "outputs": [
    {
     "data": {
      "text/plain": [
       "array([ 119.88,  679.66, 1349.55,  124.95, 2411.33])"
      ]
     },
     "execution_count": 4,
     "metadata": {},
     "output_type": "execute_result"
    }
   ],
   "source": [
    "revenue_per_product = prices * quantities\n",
    "revenue_per_product"
   ]
  },
  {
   "cell_type": "code",
   "execution_count": 5,
   "id": "f58c7170-a49d-4295-b439-5de202664606",
   "metadata": {},
   "outputs": [
    {
     "data": {
      "text/plain": [
       "4685.37"
      ]
     },
     "execution_count": 5,
     "metadata": {},
     "output_type": "execute_result"
    }
   ],
   "source": [
    "total_revenue = np.sum(revenue_per_product)\n",
    "total_revenue"
   ]
  },
  {
   "cell_type": "markdown",
   "id": "b36b7ffd-2301-4c60-a865-c79735794fca",
   "metadata": {},
   "source": [
    "## 2. Analyzing Blog Post Stats"
   ]
  },
  {
   "cell_type": "code",
   "execution_count": 8,
   "id": "95d083f4-60b0-491d-9975-74ef73feeccb",
   "metadata": {},
   "outputs": [
    {
     "data": {
      "text/plain": [
       "array([1000,  700,  300,  500,  300, 1100])"
      ]
     },
     "execution_count": 8,
     "metadata": {},
     "output_type": "execute_result"
    }
   ],
   "source": [
    "views = np.array([1000, 700, 300, 500, 300, 1100])\n",
    "views"
   ]
  },
  {
   "cell_type": "code",
   "execution_count": 10,
   "id": "c5c32d9f-21d5-43ea-823c-fccea1905f72",
   "metadata": {},
   "outputs": [
    {
     "data": {
      "text/plain": [
       "1100"
      ]
     },
     "execution_count": 10,
     "metadata": {},
     "output_type": "execute_result"
    }
   ],
   "source": [
    "max_views = np.max(views) # analog si cu metoda 'min()'\n",
    "max_views"
   ]
  },
  {
   "cell_type": "code",
   "execution_count": 11,
   "id": "e39c584e-98e0-4b73-9920-3997ea13894b",
   "metadata": {},
   "outputs": [
    {
     "data": {
      "text/plain": [
       "300"
      ]
     },
     "execution_count": 11,
     "metadata": {},
     "output_type": "execute_result"
    }
   ],
   "source": [
    "min_views = np.min(views) \n",
    "min_views"
   ]
  },
  {
   "cell_type": "code",
   "execution_count": 12,
   "id": "032d4f48-0e29-4be9-886a-8154023dacae",
   "metadata": {},
   "outputs": [
    {
     "data": {
      "text/plain": [
       "650.0"
      ]
     },
     "execution_count": 12,
     "metadata": {},
     "output_type": "execute_result"
    }
   ],
   "source": [
    "average_views = np.mean(views) \n",
    "average_views"
   ]
  },
  {
   "cell_type": "markdown",
   "id": "3a88593c-059d-4e95-953e-2f396280f370",
   "metadata": {},
   "source": [
    "## 3. Splitting Order into Batches"
   ]
  },
  {
   "cell_type": "code",
   "execution_count": 13,
   "id": "1409cb4a-2394-4121-b3c0-3db3f64f6a14",
   "metadata": {},
   "outputs": [
    {
     "data": {
      "text/plain": [
       "array([1001, 1002, 1003, 1004, 1005, 1006, 1007, 1008, 1009])"
      ]
     },
     "execution_count": 13,
     "metadata": {},
     "output_type": "execute_result"
    }
   ],
   "source": [
    "order_ids = np.array([1001, 1002, 1003, 1004, 1005, 1006, 1007, 1008, 1009])\n",
    "order_ids"
   ]
  },
  {
   "cell_type": "code",
   "execution_count": 14,
   "id": "2628b259-d8dd-4467-a419-4b472e6d705c",
   "metadata": {},
   "outputs": [
    {
     "data": {
      "text/plain": [
       "[array([1001, 1002, 1003]),\n",
       " array([1004, 1005, 1006]),\n",
       " array([1007, 1008, 1009])]"
      ]
     },
     "execution_count": 14,
     "metadata": {},
     "output_type": "execute_result"
    }
   ],
   "source": [
    "batches = np.split(order_ids, 3)\n",
    "batches"
   ]
  },
  {
   "cell_type": "code",
   "execution_count": 15,
   "id": "0ca0e0f6-4982-4d2d-ba5b-12683963b6c3",
   "metadata": {},
   "outputs": [
    {
     "name": "stdout",
     "output_type": "stream",
     "text": [
      "[1001 1002 1003]\n",
      "[1004 1005 1006]\n",
      "[1007 1008 1009]\n"
     ]
    }
   ],
   "source": [
    "for batch in batches:\n",
    "    print (batch)"
   ]
  },
  {
   "cell_type": "code",
   "execution_count": 16,
   "id": "ec570488-53c0-4155-8473-bf9b18cd3712",
   "metadata": {},
   "outputs": [
    {
     "name": "stdout",
     "output_type": "stream",
     "text": [
      "1001\n",
      "1004\n",
      "1007\n"
     ]
    }
   ],
   "source": [
    "for batch in batches:\n",
    "    print (batch[0])"
   ]
  },
  {
   "cell_type": "code",
   "execution_count": 20,
   "id": "cafd4027-e16a-4952-956a-46e2f6552e1a",
   "metadata": {},
   "outputs": [
    {
     "name": "stdout",
     "output_type": "stream",
     "text": [
      "Batch number 0:\n",
      "Primul element din lot:      1001\n",
      "Al Doilea element din lot:   1002\n",
      "Al treilea element din lot:  1003\n",
      "\n",
      "Batch number 1:\n",
      "Primul element din lot:      1004\n",
      "Al Doilea element din lot:   1005\n",
      "Al treilea element din lot:  1006\n",
      "\n",
      "Batch number 2:\n",
      "Primul element din lot:      1007\n",
      "Al Doilea element din lot:   1008\n",
      "Al treilea element din lot:  1009\n",
      "\n"
     ]
    }
   ],
   "source": [
    "for i, batch in enumerate(batches):\n",
    "    print (f\"Batch number {i}:\")\n",
    "    print (\"Primul element din lot:     \", batch[0])\n",
    "    print (\"Al Doilea element din lot:  \", batch[1])\n",
    "    print (\"Al treilea element din lot: \", batch[2])\n",
    "    print ('') # adugam un rind nou"
   ]
  },
  {
   "cell_type": "markdown",
   "id": "7e1816c5-e5c6-4452-b1d7-6e6236e52f3c",
   "metadata": {},
   "source": [
    "## 4. Categorizing Product Ratings"
   ]
  },
  {
   "cell_type": "code",
   "execution_count": 21,
   "id": "2f0565bc-d7c0-49b7-b1a9-059ca75ac427",
   "metadata": {},
   "outputs": [
    {
     "data": {
      "text/plain": [
       "array([1.2, 4.3, 2.4, 6.4, 7.5, 8.3, 2.5, 4.7])"
      ]
     },
     "execution_count": 21,
     "metadata": {},
     "output_type": "execute_result"
    }
   ],
   "source": [
    "ratings = np.array([1.2, 4.3, 2.4, 6.4, 7.5, 8.3, 2.5, 4.7])\n",
    "ratings"
   ]
  },
  {
   "cell_type": "code",
   "execution_count": 24,
   "id": "d21e84cb-3006-48f4-95ec-0f661a5ccdb6",
   "metadata": {},
   "outputs": [
    {
     "data": {
      "text/plain": [
       "array([4.3, 6.4, 7.5, 8.3, 4.7])"
      ]
     },
     "execution_count": 24,
     "metadata": {},
     "output_type": "execute_result"
    }
   ],
   "source": [
    "# Aflam reitingurile pozitive si begative\n",
    "positive_ratings = ratings[ratings >=4.0]\n",
    "positive_ratings"
   ]
  },
  {
   "cell_type": "code",
   "execution_count": 25,
   "id": "08e572c0-4751-4107-9e2a-a33e5e621387",
   "metadata": {},
   "outputs": [
    {
     "data": {
      "text/plain": [
       "array([1.2, 2.4, 2.5])"
      ]
     },
     "execution_count": 25,
     "metadata": {},
     "output_type": "execute_result"
    }
   ],
   "source": [
    "negative_ratings = ratings[ratings <4.0]\n",
    "negative_ratings"
   ]
  },
  {
   "cell_type": "markdown",
   "id": "14a3ff6f-e414-4ae0-9df3-9fff5fae9394",
   "metadata": {},
   "source": [
    "## 5. Calculate Total and Average quantities sold"
   ]
  },
  {
   "cell_type": "code",
   "execution_count": 31,
   "id": "eb45918c-b345-490c-a586-0f5cf15b5922",
   "metadata": {},
   "outputs": [
    {
     "data": {
      "text/plain": [
       "array([[3, 5, 2, 7],\n",
       "       [8, 9, 3, 1]])"
      ]
     },
     "execution_count": 31,
     "metadata": {},
     "output_type": "execute_result"
    }
   ],
   "source": [
    "# avem 4 producte si 2 comenzi\n",
    "order_quantities = np.array([[3, 5, 2, 7], [8, 9, 3, 1]])\n",
    "order_quantities"
   ]
  },
  {
   "cell_type": "code",
   "execution_count": 33,
   "id": "b6c65769-38b6-43cf-a0ca-ed0e9e552c60",
   "metadata": {},
   "outputs": [
    {
     "data": {
      "text/plain": [
       "38"
      ]
     },
     "execution_count": 33,
     "metadata": {},
     "output_type": "execute_result"
    }
   ],
   "source": [
    "total_quantities_sold = np.sum(order_quantities)\n",
    "total_quantities_sold\n",
    "# In total produse vindute"
   ]
  },
  {
   "cell_type": "code",
   "execution_count": 34,
   "id": "d315df38-cf89-4c48-b42c-5d4aa8839560",
   "metadata": {},
   "outputs": [
    {
     "data": {
      "text/plain": [
       "array([11, 14,  5,  8])"
      ]
     },
     "execution_count": 34,
     "metadata": {},
     "output_type": "execute_result"
    }
   ],
   "source": [
    "# Cantitatea totala pe product vindut \n",
    "total_quantities_sold = np.sum(order_quantities, axis=0)\n",
    "# adunam dupa 'axa 0'\n",
    "total_quantities_sold\n",
    "# in total in 2 comenzi produs 1= 11, produs 2= 14,produs 2= 5,produs 2= 8 "
   ]
  },
  {
   "cell_type": "code",
   "execution_count": 36,
   "id": "35171d34-402c-4aad-8e1f-5a772f05adc9",
   "metadata": {},
   "outputs": [
    {
     "data": {
      "text/plain": [
       "array([17, 21])"
      ]
     },
     "execution_count": 36,
     "metadata": {},
     "output_type": "execute_result"
    }
   ],
   "source": [
    "# Cantitatea totala de producte vindute in 2 comenzi\n",
    "total_quantities_sold_per_order = np.sum(order_quantities, axis=1)\n",
    "# adunam dupa 'axa 1'\n",
    "total_quantities_sold_per_order\n",
    "# in 1 comanda 17 produse, in 2 comanda 21 produse"
   ]
  },
  {
   "cell_type": "code",
   "execution_count": 37,
   "id": "b23a8bda-c26b-470c-b609-2e31b2ed13d5",
   "metadata": {},
   "outputs": [
    {
     "data": {
      "text/plain": [
       "array([5.5, 7. , 2.5, 4. ])"
      ]
     },
     "execution_count": 37,
     "metadata": {},
     "output_type": "execute_result"
    }
   ],
   "source": [
    "average_quantities_sold = np.mean(order_quantities, axis=0)\n",
    "average_quantities_sold\n",
    "# aflam media produselor vindute in cele 2 comenzi"
   ]
  },
  {
   "cell_type": "markdown",
   "id": "24f9c769-cce5-49a0-9515-c7e4e23165f0",
   "metadata": {},
   "source": [
    "## 6. Calculate Average product Rating and Maximum rating per Category"
   ]
  },
  {
   "cell_type": "code",
   "execution_count": 3,
   "id": "1457f5e1-9620-4a6b-9ce8-5cf379ede5d6",
   "metadata": {},
   "outputs": [
    {
     "data": {
      "text/plain": [
       "array([[4.3, 3.3, 3.2, 5. ],\n",
       "       [4.2, 3.1, 4.8, 0.8],\n",
       "       [3.7, 2.1, 2.9, 0.5]])"
      ]
     },
     "execution_count": 3,
     "metadata": {},
     "output_type": "execute_result"
    }
   ],
   "source": [
    "# Fiecare rind asta este un produs; Avem 3 produse\n",
    "# Fiecare coloane este raiting pe 4 categorii\n",
    "products_ratings = np.array([\n",
    "    [4.3, 3.3, 3.2, 5.0],\n",
    "    [4.2, 3.1, 4.8, 0.8],\n",
    "    [3.7, 2.1, 2.9, 0.5]\n",
    "])\n",
    "products_ratings"
   ]
  },
  {
   "cell_type": "code",
   "execution_count": 9,
   "id": "d487e3f0-21d1-4aa1-8b40-c218d9b818de",
   "metadata": {},
   "outputs": [
    {
     "data": {
      "text/plain": [
       "array([4.07, 2.83, 3.63, 2.1 ])"
      ]
     },
     "execution_count": 9,
     "metadata": {},
     "output_type": "execute_result"
    }
   ],
   "source": [
    "# Media produselor pentru fiecare categorie\n",
    "avergae_rating_per_category = np.round(np.mean(products_ratings, axis=0),2)\n",
    "avergae_rating_per_category"
   ]
  },
  {
   "cell_type": "code",
   "execution_count": 13,
   "id": "de05f1ee-83f5-4e51-925a-1f2d6b959790",
   "metadata": {},
   "outputs": [
    {
     "data": {
      "text/plain": [
       "array([4.3, 3.3, 4.8, 5. ])"
      ]
     },
     "execution_count": 13,
     "metadata": {},
     "output_type": "execute_result"
    }
   ],
   "source": [
    "# Maximum produselor pentru fiecare categorie\n",
    "max_rating_per_category = np.max(products_ratings, axis=0)\n",
    "max_rating_per_category"
   ]
  },
  {
   "cell_type": "code",
   "execution_count": 11,
   "id": "fc8b66a7-e8ca-467b-b138-6c2a86f4a86a",
   "metadata": {},
   "outputs": [
    {
     "data": {
      "text/plain": [
       "array([3.95, 3.23, 2.3 ])"
      ]
     },
     "execution_count": 11,
     "metadata": {},
     "output_type": "execute_result"
    }
   ],
   "source": [
    "# Media pentru fiecare product \n",
    "avergae_rating_per_product = np.round(np.mean(products_ratings, axis=1),2)\n",
    "avergae_rating_per_product"
   ]
  },
  {
   "cell_type": "code",
   "execution_count": 14,
   "id": "dc717619-a92b-4af2-8d6e-42d3d69803f5",
   "metadata": {},
   "outputs": [
    {
     "data": {
      "text/plain": [
       "array([3.95 , 3.225, 2.3  ])"
      ]
     },
     "execution_count": 14,
     "metadata": {},
     "output_type": "execute_result"
    }
   ],
   "source": [
    "# Minimum pentru fiecare product \n",
    "min_rating_per_product = np.mean(products_ratings, axis=1)\n",
    "min_rating_per_product"
   ]
  },
  {
   "cell_type": "markdown",
   "id": "9cd8d519-1e9b-4f9a-b044-b97bda8cc6c2",
   "metadata": {},
   "source": [
    "## 7. Generation of the sample stock data"
   ]
  },
  {
   "cell_type": "code",
   "execution_count": 27,
   "id": "adc31675-e557-48a8-9dd8-ea5472be3a91",
   "metadata": {},
   "outputs": [],
   "source": [
    "companies = ['Google', 'Microsoft', 'Apple']\n",
    "days = ['Mon 1 April','Tue 2 May']\n",
    "price_types = ['Open', 'Close', 'High', 'Low']"
   ]
  },
  {
   "cell_type": "code",
   "execution_count": 28,
   "id": "0dbf9cde-61de-4b39-9228-c6fea56c4161",
   "metadata": {},
   "outputs": [
    {
     "data": {
      "text/plain": [
       "array([[[0.417, 0.72 , 0.   , 0.302],\n",
       "        [0.147, 0.092, 0.186, 0.346]],\n",
       "\n",
       "       [[0.397, 0.539, 0.419, 0.685],\n",
       "        [0.204, 0.878, 0.027, 0.67 ]],\n",
       "\n",
       "       [[0.417, 0.559, 0.14 , 0.198],\n",
       "        [0.801, 0.968, 0.313, 0.692]]])"
      ]
     },
     "execution_count": 28,
     "metadata": {},
     "output_type": "execute_result"
    }
   ],
   "source": [
    "#Creem masivul (3, 2, 4) cu preturi generate random\n",
    "np.random.seed(1)\n",
    "stock_prices = np.round(np.random.random((len(companies),len(days),len(price_types))),3)\n",
    "stock_prices"
   ]
  },
  {
   "cell_type": "code",
   "execution_count": 22,
   "id": "6e89c60e-9cf7-4153-b454-73a84c395269",
   "metadata": {},
   "outputs": [
    {
     "data": {
      "text/plain": [
       "(3, 2, 4)"
      ]
     },
     "execution_count": 22,
     "metadata": {},
     "output_type": "execute_result"
    }
   ],
   "source": [
    "# ne uitam ce forma are masivul\n",
    "stock_prices.shape "
   ]
  },
  {
   "cell_type": "code",
   "execution_count": 29,
   "id": "ddf609e5-6874-4e3f-92d9-0785c0854d82",
   "metadata": {},
   "outputs": [
    {
     "name": "stdout",
     "output_type": "stream",
     "text": [
      "Stock prices for the Google:\n",
      "Day: Mon 1 April\n",
      "Open Price: 0.417\n",
      "Close Price: 0.72\n",
      "High Price: 0.0\n",
      "Low Price: 0.302\n",
      "\n",
      "Day: Tue 2 May\n",
      "Open Price: 0.147\n",
      "Close Price: 0.092\n",
      "High Price: 0.186\n",
      "Low Price: 0.346\n",
      "\n",
      "\n",
      "Stock prices for the Microsoft:\n",
      "Day: Mon 1 April\n",
      "Open Price: 0.397\n",
      "Close Price: 0.539\n",
      "High Price: 0.419\n",
      "Low Price: 0.685\n",
      "\n",
      "Day: Tue 2 May\n",
      "Open Price: 0.204\n",
      "Close Price: 0.878\n",
      "High Price: 0.027\n",
      "Low Price: 0.67\n",
      "\n",
      "\n",
      "Stock prices for the Apple:\n",
      "Day: Mon 1 April\n",
      "Open Price: 0.417\n",
      "Close Price: 0.559\n",
      "High Price: 0.14\n",
      "Low Price: 0.198\n",
      "\n",
      "Day: Tue 2 May\n",
      "Open Price: 0.801\n",
      "Close Price: 0.968\n",
      "High Price: 0.313\n",
      "Low Price: 0.692\n",
      "\n",
      "\n"
     ]
    }
   ],
   "source": [
    "# Prcurgem tot masivul tridiminseunal cu iteratsiile 'for in'\n",
    "for index_axis_0, company in enumerate(companies):\n",
    "    print(f\"Stock prices for the {company}:\")\n",
    "    for index_axis_1, day in enumerate(days):\n",
    "        print(f\"Day: {day}\")\n",
    "        for index_axis_2, price_type in enumerate(price_types):\n",
    "            print(f\"{price_type} Price: {stock_prices[index_axis_0, index_axis_1, index_axis_2]}\")\n",
    "        print('')\n",
    "    print('')"
   ]
  }
 ],
 "metadata": {
  "kernelspec": {
   "display_name": "Python 3 (ipykernel)",
   "language": "python",
   "name": "python3"
  },
  "language_info": {
   "codemirror_mode": {
    "name": "ipython",
    "version": 3
   },
   "file_extension": ".py",
   "mimetype": "text/x-python",
   "name": "python",
   "nbconvert_exporter": "python",
   "pygments_lexer": "ipython3",
   "version": "3.11.4"
  }
 },
 "nbformat": 4,
 "nbformat_minor": 5
}
