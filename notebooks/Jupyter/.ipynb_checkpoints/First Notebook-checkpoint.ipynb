{
 "cells": [
  {
   "cell_type": "markdown",
   "id": "40d3064e-300d-4ae7-a127-57333ee842b3",
   "metadata": {},
   "source": [
    "# First Notebook"
   ]
  },
  {
   "cell_type": "markdown",
   "id": "b05a2a22-86c3-47f0-811b-d7328eb1f6ec",
   "metadata": {
    "jp-MarkdownHeadingCollapsed": true
   },
   "source": [
    "## First Section"
   ]
  },
  {
   "cell_type": "code",
   "execution_count": 2,
   "id": "bd002567-0290-4d43-bec4-fb8caf57a79a",
   "metadata": {},
   "outputs": [
    {
     "data": {
      "text/plain": [
       "12"
      ]
     },
     "execution_count": 2,
     "metadata": {},
     "output_type": "execute_result"
    }
   ],
   "source": [
    "10 + 2"
   ]
  },
  {
   "cell_type": "code",
   "execution_count": 3,
   "id": "3322621f-414b-4776-bc34-ff35d1212544",
   "metadata": {
    "scrolled": true
   },
   "outputs": [
    {
     "data": {
      "text/plain": [
       "'Andrew'"
      ]
     },
     "execution_count": 3,
     "metadata": {},
     "output_type": "execute_result"
    }
   ],
   "source": [
    "my_name ='Andrew'\n",
    "my_name"
   ]
  },
  {
   "cell_type": "code",
   "execution_count": 4,
   "id": "1ce13270-ed0b-463e-b652-146fb2b2c7c2",
   "metadata": {},
   "outputs": [
    {
     "data": {
      "text/plain": [
       "'Alice'"
      ]
     },
     "execution_count": 4,
     "metadata": {},
     "output_type": "execute_result"
    }
   ],
   "source": [
    "my_name = 'Alice'\n",
    "my_name"
   ]
  },
  {
   "cell_type": "code",
   "execution_count": 5,
   "id": "ce3d047e-2b1c-49a0-a3b8-2453eb34cc40",
   "metadata": {},
   "outputs": [
    {
     "data": {
      "text/plain": [
       "'Alice'"
      ]
     },
     "execution_count": 5,
     "metadata": {},
     "output_type": "execute_result"
    }
   ],
   "source": [
    "my_name"
   ]
  },
  {
   "cell_type": "markdown",
   "id": "b1252ee1-59e9-44af-858e-faec1aa4fe79",
   "metadata": {
    "jp-MarkdownHeadingCollapsed": true
   },
   "source": [
    "## Seconde Section"
   ]
  },
  {
   "cell_type": "code",
   "execution_count": 7,
   "id": "0dc61ec7-209e-43bb-a47e-9d8f03389d0f",
   "metadata": {},
   "outputs": [
    {
     "data": {
      "text/plain": [
       "'my name is Alice'"
      ]
     },
     "execution_count": 7,
     "metadata": {},
     "output_type": "execute_result"
    }
   ],
   "source": [
    "f\"my name is {my_name}\""
   ]
  }
 ],
 "metadata": {
  "kernelspec": {
   "display_name": "Python 3 (ipykernel)",
   "language": "python",
   "name": "python3"
  },
  "language_info": {
   "codemirror_mode": {
    "name": "ipython",
    "version": 3
   },
   "file_extension": ".py",
   "mimetype": "text/x-python",
   "name": "python",
   "nbconvert_exporter": "python",
   "pygments_lexer": "ipython3",
   "version": "3.11.4"
  }
 },
 "nbformat": 4,
 "nbformat_minor": 5
}
